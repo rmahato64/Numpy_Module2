{
  "nbformat": 4,
  "nbformat_minor": 0,
  "metadata": {
    "colab": {
      "name": "Module_2.ipynb",
      "version": "0.3.2",
      "provenance": [],
      "collapsed_sections": []
    },
    "kernelspec": {
      "name": "python3",
      "display_name": "Python 3"
    }
  },
  "cells": [
    {
      "cell_type": "code",
      "metadata": {
        "id": "vOF5RtmMWdrN",
        "colab_type": "code",
        "colab": {}
      },
      "source": [
        "import numpy as np  #importing numpy"
      ],
      "execution_count": 0,
      "outputs": []
    },
    {
      "cell_type": "code",
      "metadata": {
        "id": "_hW2toVhayCy",
        "colab_type": "code",
        "colab": {}
      },
      "source": [
        "list1 = [1, 2, 3, 4, 5]   #creating list"
      ],
      "execution_count": 0,
      "outputs": []
    },
    {
      "cell_type": "code",
      "metadata": {
        "id": "FcBcJ-eGdr0Z",
        "colab_type": "code",
        "colab": {}
      },
      "source": [
        "arr1 = np.array(list1)"
      ],
      "execution_count": 0,
      "outputs": []
    },
    {
      "cell_type": "code",
      "metadata": {
        "id": "TGnrFL0ye6h5",
        "colab_type": "code",
        "colab": {}
      },
      "source": [
        "list2 = [range(1,5), range(5,10)]   # making list inside a list"
      ],
      "execution_count": 0,
      "outputs": []
    },
    {
      "cell_type": "code",
      "metadata": {
        "id": "nd4bkaeMe9HE",
        "colab_type": "code",
        "colab": {}
      },
      "source": [
        "arr2 = np.array(list2)"
      ],
      "execution_count": 0,
      "outputs": []
    },
    {
      "cell_type": "code",
      "metadata": {
        "id": "AmBp_VBse_xW",
        "colab_type": "code",
        "outputId": "6bcffd2d-a4cb-425f-e713-0133d5d16898",
        "colab": {
          "base_uri": "https://localhost:8080/",
          "height": 34
        }
      },
      "source": [
        "arr2.tolist()"
      ],
      "execution_count": 0,
      "outputs": [
        {
          "output_type": "execute_result",
          "data": {
            "text/plain": [
              "[range(1, 5), range(5, 10)]"
            ]
          },
          "metadata": {
            "tags": []
          },
          "execution_count": 34
        }
      ]
    },
    {
      "cell_type": "code",
      "metadata": {
        "id": "sVStsVf6bzbJ",
        "colab_type": "code",
        "outputId": "3e1259f3-11d9-4942-c200-00346408d760",
        "colab": {
          "base_uri": "https://localhost:8080/",
          "height": 34
        }
      },
      "source": [
        "np.zeros(10)\n"
      ],
      "execution_count": 0,
      "outputs": [
        {
          "output_type": "execute_result",
          "data": {
            "text/plain": [
              "array([0., 0., 0., 0., 0., 0., 0., 0., 0., 0.])"
            ]
          },
          "metadata": {
            "tags": []
          },
          "execution_count": 35
        }
      ]
    },
    {
      "cell_type": "code",
      "metadata": {
        "id": "U8syrAm3dtwx",
        "colab_type": "code",
        "outputId": "8a0414ab-14d8-45be-c2f2-a22ededf25d5",
        "colab": {
          "base_uri": "https://localhost:8080/",
          "height": 68
        }
      },
      "source": [
        "np.zeros((3, 6))  #number of rows and colums: 3 rows and 6 column"
      ],
      "execution_count": 0,
      "outputs": [
        {
          "output_type": "execute_result",
          "data": {
            "text/plain": [
              "array([[0., 0., 0., 0., 0., 0.],\n",
              "       [0., 0., 0., 0., 0., 0.],\n",
              "       [0., 0., 0., 0., 0., 0.]])"
            ]
          },
          "metadata": {
            "tags": []
          },
          "execution_count": 18
        }
      ]
    },
    {
      "cell_type": "code",
      "metadata": {
        "id": "0O9kbal1dy9N",
        "colab_type": "code",
        "outputId": "85d20c49-e42f-42d4-de11-04385dad9c76",
        "colab": {
          "base_uri": "https://localhost:8080/",
          "height": 34
        }
      },
      "source": [
        "np.ones(10)    # multiplying 10 times"
      ],
      "execution_count": 0,
      "outputs": [
        {
          "output_type": "execute_result",
          "data": {
            "text/plain": [
              "array([1., 1., 1., 1., 1., 1., 1., 1., 1., 1.])"
            ]
          },
          "metadata": {
            "tags": []
          },
          "execution_count": 19
        }
      ]
    },
    {
      "cell_type": "code",
      "metadata": {
        "id": "kBaswrQcd1wf",
        "colab_type": "code",
        "outputId": "362ee059-e59e-4879-fece-73b8ac1264a5",
        "colab": {
          "base_uri": "https://localhost:8080/",
          "height": 34
        }
      },
      "source": [
        "np.linspace(0, 1, 5)   # uniform distribution between 0 and 1, 5 times"
      ],
      "execution_count": 0,
      "outputs": [
        {
          "output_type": "execute_result",
          "data": {
            "text/plain": [
              "array([0.  , 0.25, 0.5 , 0.75, 1.  ])"
            ]
          },
          "metadata": {
            "tags": []
          },
          "execution_count": 20
        }
      ]
    },
    {
      "cell_type": "code",
      "metadata": {
        "id": "lFM2Pp5Td8OL",
        "colab_type": "code",
        "outputId": "aec01db5-22d9-44a7-f28a-edb43d13c8ab",
        "colab": {
          "base_uri": "https://localhost:8080/",
          "height": 34
        }
      },
      "source": [
        "np.logspace(0, 3, 4)"
      ],
      "execution_count": 0,
      "outputs": [
        {
          "output_type": "execute_result",
          "data": {
            "text/plain": [
              "array([   1.,   10.,  100., 1000.])"
            ]
          },
          "metadata": {
            "tags": []
          },
          "execution_count": 21
        }
      ]
    },
    {
      "cell_type": "code",
      "metadata": {
        "id": "Xu5UnXFmcZZu",
        "colab_type": "code",
        "colab": {}
      },
      "source": [
        "int_array = np.arange(5)\n"
      ],
      "execution_count": 0,
      "outputs": []
    },
    {
      "cell_type": "code",
      "metadata": {
        "id": "JtrWXj2Lcvvd",
        "colab_type": "code",
        "outputId": "9e144c5a-9d6a-4c47-81ae-437f2444bb92",
        "colab": {
          "base_uri": "https://localhost:8080/",
          "height": 34
        }
      },
      "source": [
        "arr1.dtype       #checking the type \n"
      ],
      "execution_count": 0,
      "outputs": [
        {
          "output_type": "execute_result",
          "data": {
            "text/plain": [
              "dtype('int64')"
            ]
          },
          "metadata": {
            "tags": []
          },
          "execution_count": 25
        }
      ]
    },
    {
      "cell_type": "code",
      "metadata": {
        "id": "uXotlZP4dE50",
        "colab_type": "code",
        "outputId": "92b925e1-ea57-4613-fb70-f4834fd6bf9d",
        "colab": {
          "base_uri": "https://localhost:8080/",
          "height": 34
        }
      },
      "source": [
        "arr2.dtype"
      ],
      "execution_count": 0,
      "outputs": [
        {
          "output_type": "execute_result",
          "data": {
            "text/plain": [
              "dtype('O')"
            ]
          },
          "metadata": {
            "tags": []
          },
          "execution_count": 27
        }
      ]
    },
    {
      "cell_type": "code",
      "metadata": {
        "id": "4ZLGADpPdVvM",
        "colab_type": "code",
        "outputId": "48b0954c-3eb6-4d84-b4c9-919f36a72b98",
        "colab": {
          "base_uri": "https://localhost:8080/",
          "height": 34
        }
      },
      "source": [
        "arr2.ndim\n"
      ],
      "execution_count": 0,
      "outputs": [
        {
          "output_type": "execute_result",
          "data": {
            "text/plain": [
              "1"
            ]
          },
          "metadata": {
            "tags": []
          },
          "execution_count": 14
        }
      ]
    },
    {
      "cell_type": "code",
      "metadata": {
        "id": "LQ2Zbr2sdX61",
        "colab_type": "code",
        "outputId": "8c9390d1-a196-40ff-8ed2-2c7caf877636",
        "colab": {
          "base_uri": "https://localhost:8080/",
          "height": 34
        }
      },
      "source": [
        "arr2.shape"
      ],
      "execution_count": 0,
      "outputs": [
        {
          "output_type": "execute_result",
          "data": {
            "text/plain": [
              "(2,)"
            ]
          },
          "metadata": {
            "tags": []
          },
          "execution_count": 15
        }
      ]
    },
    {
      "cell_type": "code",
      "metadata": {
        "id": "Cb-_YShmdY4h",
        "colab_type": "code",
        "outputId": "d9c25efc-62fb-4004-92d3-b4deaf692cdd",
        "colab": {
          "base_uri": "https://localhost:8080/",
          "height": 34
        }
      },
      "source": [
        "arr2.dtype"
      ],
      "execution_count": 0,
      "outputs": [
        {
          "output_type": "execute_result",
          "data": {
            "text/plain": [
              "dtype('O')"
            ]
          },
          "metadata": {
            "tags": []
          },
          "execution_count": 28
        }
      ]
    },
    {
      "cell_type": "code",
      "metadata": {
        "id": "qhfzm4EUekrW",
        "colab_type": "code",
        "outputId": "efbc917f-8b2a-4980-eacc-5a35e18d8ee0",
        "colab": {
          "base_uri": "https://localhost:8080/",
          "height": 34
        }
      },
      "source": [
        "arr2.size"
      ],
      "execution_count": 0,
      "outputs": [
        {
          "output_type": "execute_result",
          "data": {
            "text/plain": [
              "2"
            ]
          },
          "metadata": {
            "tags": []
          },
          "execution_count": 29
        }
      ]
    },
    {
      "cell_type": "code",
      "metadata": {
        "id": "ODieXMjMeu4W",
        "colab_type": "code",
        "outputId": "cab19a2a-1a94-4c59-d16e-ec97f38db7d7",
        "colab": {
          "base_uri": "https://localhost:8080/",
          "height": 34
        }
      },
      "source": [
        "len(arr2)"
      ],
      "execution_count": 0,
      "outputs": [
        {
          "output_type": "execute_result",
          "data": {
            "text/plain": [
              "2"
            ]
          },
          "metadata": {
            "tags": []
          },
          "execution_count": 37
        }
      ]
    },
    {
      "cell_type": "code",
      "metadata": {
        "id": "itDudOgJfIcc",
        "colab_type": "code",
        "outputId": "eb9f476f-0780-4de3-c610-0208e5b042e8",
        "colab": {
          "base_uri": "https://localhost:8080/",
          "height": 34
        }
      },
      "source": [
        "arr2.size"
      ],
      "execution_count": 0,
      "outputs": [
        {
          "output_type": "execute_result",
          "data": {
            "text/plain": [
              "2"
            ]
          },
          "metadata": {
            "tags": []
          },
          "execution_count": 39
        }
      ]
    },
    {
      "cell_type": "code",
      "metadata": {
        "id": "Rg1I9EPofSx5",
        "colab_type": "code",
        "outputId": "de78c34a-4dad-4891-e2b1-713ca3e14e7c",
        "colab": {
          "base_uri": "https://localhost:8080/",
          "height": 34
        }
      },
      "source": [
        "arr = np.arange(10, dtype=float).reshape((2, 5))\n",
        "print(arr.shape)"
      ],
      "execution_count": 0,
      "outputs": [
        {
          "output_type": "stream",
          "text": [
            "(2, 5)\n"
          ],
          "name": "stdout"
        }
      ]
    },
    {
      "cell_type": "code",
      "metadata": {
        "id": "yzgShxLIg_2c",
        "colab_type": "code",
        "outputId": "335b8a67-e0c7-4523-a308-4e73404ce125",
        "colab": {
          "base_uri": "https://localhost:8080/",
          "height": 102
        }
      },
      "source": [
        "print(arr.reshape(5, 2))"
      ],
      "execution_count": 0,
      "outputs": [
        {
          "output_type": "stream",
          "text": [
            "[[0. 1.]\n",
            " [2. 3.]\n",
            " [4. 5.]\n",
            " [6. 7.]\n",
            " [8. 9.]]\n"
          ],
          "name": "stdout"
        }
      ]
    },
    {
      "cell_type": "code",
      "metadata": {
        "id": "M8mf7C1VhRKL",
        "colab_type": "code",
        "colab": {}
      },
      "source": [
        "a = np.array([0, 1])"
      ],
      "execution_count": 0,
      "outputs": []
    },
    {
      "cell_type": "code",
      "metadata": {
        "id": "xSc1-mYlhoY_",
        "colab_type": "code",
        "outputId": "5df29093-0555-468c-84ff-0df93b94807c",
        "colab": {
          "base_uri": "https://localhost:8080/",
          "height": 51
        }
      },
      "source": [
        "a_col = a[:, np.newaxis]\n",
        "print(a_col)"
      ],
      "execution_count": 0,
      "outputs": [
        {
          "output_type": "stream",
          "text": [
            "[[0]\n",
            " [1]]\n"
          ],
          "name": "stdout"
        }
      ]
    },
    {
      "cell_type": "code",
      "metadata": {
        "id": "C3yK5FZfh0Ze",
        "colab_type": "code",
        "outputId": "12f6eeb2-4cac-412e-be23-e45d87c59c75",
        "colab": {
          "base_uri": "https://localhost:8080/",
          "height": 34
        }
      },
      "source": [
        "print(a_col.T)"
      ],
      "execution_count": 0,
      "outputs": [
        {
          "output_type": "stream",
          "text": [
            "[[0 1]]\n"
          ],
          "name": "stdout"
        }
      ]
    },
    {
      "cell_type": "code",
      "metadata": {
        "id": "MskswTg2h7ib",
        "colab_type": "code",
        "outputId": "a50a35db-bf90-409f-ef9b-2a8eabf79198",
        "colab": {
          "base_uri": "https://localhost:8080/",
          "height": 68
        }
      },
      "source": [
        "arr_flt = arr.flatten()\n",
        "arr_flt[0] = 33\n",
        "print(arr_flt)\n",
        "print(arr)"
      ],
      "execution_count": 0,
      "outputs": [
        {
          "output_type": "stream",
          "text": [
            "[33.  1.  2.  3.  4.  5.  6.  7.  8.  9.]\n",
            "[[0. 1. 2. 3. 4.]\n",
            " [5. 6. 7. 8. 9.]]\n"
          ],
          "name": "stdout"
        }
      ]
    },
    {
      "cell_type": "code",
      "metadata": {
        "id": "S8oR3-tzisUl",
        "colab_type": "code",
        "outputId": "803f66bb-121a-4ad5-dce6-61ffc3dce736",
        "colab": {
          "base_uri": "https://localhost:8080/",
          "height": 68
        }
      },
      "source": [
        "arr_flt = arr.ravel()\n",
        "arr_flt[0] = 33\n",
        "print(arr_flt)\n",
        "print(arr)"
      ],
      "execution_count": 0,
      "outputs": [
        {
          "output_type": "stream",
          "text": [
            "[33.  1.  2.  3.  4.  5.  6.  7.  8.  9.]\n",
            "[[33.  1.  2.  3.  4.]\n",
            " [ 5.  6.  7.  8.  9.]]\n"
          ],
          "name": "stdout"
        }
      ]
    },
    {
      "cell_type": "code",
      "metadata": {
        "id": "nmFZq_30j1J0",
        "colab_type": "code",
        "outputId": "c3d1e8fe-796a-44bc-8954-d8a1a96a983e",
        "colab": {
          "base_uri": "https://localhost:8080/",
          "height": 51
        }
      },
      "source": [
        "a = np.array([0, 1])\n",
        "b = np.array([2, 3])\n",
        "\n",
        "ab = np.stack((a, b)).T\n",
        "print(ab)"
      ],
      "execution_count": 0,
      "outputs": [
        {
          "output_type": "stream",
          "text": [
            "[[0 2]\n",
            " [1 3]]\n"
          ],
          "name": "stdout"
        }
      ]
    },
    {
      "cell_type": "code",
      "metadata": {
        "id": "BtjHDD_Rk6E0",
        "colab_type": "code",
        "outputId": "f5c2a52f-485b-40ee-fe3a-9d48522f8bce",
        "colab": {
          "base_uri": "https://localhost:8080/",
          "height": 34
        }
      },
      "source": [
        "arr = np.arange(10, dtype=float).reshape((2, 5))\n",
        "\n",
        "arr[0]"
      ],
      "execution_count": 0,
      "outputs": [
        {
          "output_type": "execute_result",
          "data": {
            "text/plain": [
              "array([0., 1., 2., 3., 4.])"
            ]
          },
          "metadata": {
            "tags": []
          },
          "execution_count": 55
        }
      ]
    },
    {
      "cell_type": "code",
      "metadata": {
        "id": "oQeZx6MYl0Jx",
        "colab_type": "code",
        "outputId": "b0d28154-db07-45b8-8e84-65b1902e35fa",
        "colab": {
          "base_uri": "https://localhost:8080/",
          "height": 34
        }
      },
      "source": [
        "arr[0,3]"
      ],
      "execution_count": 0,
      "outputs": [
        {
          "output_type": "execute_result",
          "data": {
            "text/plain": [
              "3.0"
            ]
          },
          "metadata": {
            "tags": []
          },
          "execution_count": 56
        }
      ]
    },
    {
      "cell_type": "code",
      "metadata": {
        "id": "R10-NviDl8au",
        "colab_type": "code",
        "outputId": "5ed53517-3f56-470b-9bd2-6373ffcbace2",
        "colab": {
          "base_uri": "https://localhost:8080/",
          "height": 34
        }
      },
      "source": [
        "arr[0][3]"
      ],
      "execution_count": 0,
      "outputs": [
        {
          "output_type": "execute_result",
          "data": {
            "text/plain": [
              "3.0"
            ]
          },
          "metadata": {
            "tags": []
          },
          "execution_count": 57
        }
      ]
    },
    {
      "cell_type": "code",
      "metadata": {
        "id": "wkS9KTCjl-_t",
        "colab_type": "code",
        "outputId": "524538ae-d68b-4286-8020-654d600e6baf",
        "colab": {
          "base_uri": "https://localhost:8080/",
          "height": 34
        }
      },
      "source": [
        "arr[0, :]"
      ],
      "execution_count": 0,
      "outputs": [
        {
          "output_type": "execute_result",
          "data": {
            "text/plain": [
              "array([0., 1., 2., 3., 4.])"
            ]
          },
          "metadata": {
            "tags": []
          },
          "execution_count": 58
        }
      ]
    },
    {
      "cell_type": "code",
      "metadata": {
        "id": "XkCs1pPSmm45",
        "colab_type": "code",
        "outputId": "e667f2be-b937-41f1-9fa1-d03918972f43",
        "colab": {
          "base_uri": "https://localhost:8080/",
          "height": 34
        }
      },
      "source": [
        "arr[:, 0]"
      ],
      "execution_count": 0,
      "outputs": [
        {
          "output_type": "execute_result",
          "data": {
            "text/plain": [
              "array([0., 5.])"
            ]
          },
          "metadata": {
            "tags": []
          },
          "execution_count": 59
        }
      ]
    },
    {
      "cell_type": "code",
      "metadata": {
        "id": "C1XaLep6msAh",
        "colab_type": "code",
        "outputId": "359ff7fc-30ec-4b98-cb3e-69145f6065a8",
        "colab": {
          "base_uri": "https://localhost:8080/",
          "height": 51
        }
      },
      "source": [
        "arr[:, :2]"
      ],
      "execution_count": 0,
      "outputs": [
        {
          "output_type": "execute_result",
          "data": {
            "text/plain": [
              "array([[0., 1.],\n",
              "       [5., 6.]])"
            ]
          },
          "metadata": {
            "tags": []
          },
          "execution_count": 60
        }
      ]
    },
    {
      "cell_type": "code",
      "metadata": {
        "id": "4Zo87gOLmy7M",
        "colab_type": "code",
        "outputId": "37ca4eaa-3d48-439c-f5d2-3dcf32f9bb6b",
        "colab": {
          "base_uri": "https://localhost:8080/",
          "height": 51
        }
      },
      "source": [
        "arr[:, 2:]"
      ],
      "execution_count": 0,
      "outputs": [
        {
          "output_type": "execute_result",
          "data": {
            "text/plain": [
              "array([[2., 3., 4.],\n",
              "       [7., 8., 9.]])"
            ]
          },
          "metadata": {
            "tags": []
          },
          "execution_count": 61
        }
      ]
    },
    {
      "cell_type": "code",
      "metadata": {
        "id": "vIstGO0jm7yv",
        "colab_type": "code",
        "colab": {}
      },
      "source": [
        "arr2 = arr[:, 1:4]"
      ],
      "execution_count": 0,
      "outputs": []
    },
    {
      "cell_type": "code",
      "metadata": {
        "id": "1uVhxmtinMPg",
        "colab_type": "code",
        "outputId": "b3c4aca4-3767-4f5f-c69d-8f98c0fa587b",
        "colab": {
          "base_uri": "https://localhost:8080/",
          "height": 51
        }
      },
      "source": [
        "print(arr2)"
      ],
      "execution_count": 0,
      "outputs": [
        {
          "output_type": "stream",
          "text": [
            "[[1. 2. 3.]\n",
            " [6. 7. 8.]]\n"
          ],
          "name": "stdout"
        }
      ]
    },
    {
      "cell_type": "code",
      "metadata": {
        "id": "SuSmCJghnRGf",
        "colab_type": "code",
        "outputId": "50a739e3-ce4f-4689-d60c-57a1433664f4",
        "colab": {
          "base_uri": "https://localhost:8080/",
          "height": 85
        }
      },
      "source": [
        "arr2[0, 0] = 33\n",
        "print(arr2)\n",
        "print(arr)"
      ],
      "execution_count": 0,
      "outputs": [
        {
          "output_type": "stream",
          "text": [
            "[[33.  2.  3.]\n",
            " [ 6.  7.  8.]]\n",
            "[[ 0. 33.  2.  3.  4.]\n",
            " [ 5.  6.  7.  8.  9.]]\n"
          ],
          "name": "stdout"
        }
      ]
    },
    {
      "cell_type": "code",
      "metadata": {
        "id": "tDMfTX22nf4A",
        "colab_type": "code",
        "outputId": "cb67f7af-2462-437a-ce8c-09393945f998",
        "colab": {
          "base_uri": "https://localhost:8080/",
          "height": 34
        }
      },
      "source": [
        "print(arr[0, ::-1])"
      ],
      "execution_count": 0,
      "outputs": [
        {
          "output_type": "stream",
          "text": [
            "[ 4.  3.  2. 33.  0.]\n"
          ],
          "name": "stdout"
        }
      ]
    },
    {
      "cell_type": "code",
      "metadata": {
        "id": "Gc3-rFvGnsJW",
        "colab_type": "code",
        "outputId": "8d58efc2-99a6-4194-9a2d-4267030d0c2d",
        "colab": {
          "base_uri": "https://localhost:8080/",
          "height": 51
        }
      },
      "source": [
        "arr2 = arr[:, [1, 2, 3]]\n",
        "print(arr2)"
      ],
      "execution_count": 0,
      "outputs": [
        {
          "output_type": "stream",
          "text": [
            "[[33.  2.  3.]\n",
            " [ 6.  7.  8.]]\n"
          ],
          "name": "stdout"
        }
      ]
    },
    {
      "cell_type": "code",
      "metadata": {
        "id": "YqjgueP0n-Wu",
        "colab_type": "code",
        "outputId": "98812f49-cc71-4f59-cee2-44552de7864d",
        "colab": {
          "base_uri": "https://localhost:8080/",
          "height": 51
        }
      },
      "source": [
        "arr2[0, 0] = 44\n",
        "print(arr2)"
      ],
      "execution_count": 0,
      "outputs": [
        {
          "output_type": "stream",
          "text": [
            "[[44.  2.  3.]\n",
            " [ 6.  7.  8.]]\n"
          ],
          "name": "stdout"
        }
      ]
    },
    {
      "cell_type": "code",
      "metadata": {
        "id": "00LheTYLoF0v",
        "colab_type": "code",
        "outputId": "e6b53fc8-49fe-409e-ba6e-63aadae17cc5",
        "colab": {
          "base_uri": "https://localhost:8080/",
          "height": 51
        }
      },
      "source": [
        "print(arr)"
      ],
      "execution_count": 0,
      "outputs": [
        {
          "output_type": "stream",
          "text": [
            "[[ 0. 33.  2.  3.  4.]\n",
            " [ 5.  6.  7.  8.  9.]]\n"
          ],
          "name": "stdout"
        }
      ]
    },
    {
      "cell_type": "code",
      "metadata": {
        "id": "SUOajMDmoIZf",
        "colab_type": "code",
        "outputId": "4f2e1ee2-44a2-463b-9e82-f7f3e2513e7b",
        "colab": {
          "base_uri": "https://localhost:8080/",
          "height": 34
        }
      },
      "source": [
        "arr2 = arr[arr >5]\n",
        "print(arr2)"
      ],
      "execution_count": 0,
      "outputs": [
        {
          "output_type": "stream",
          "text": [
            "[33.  6.  7.  8.  9.]\n"
          ],
          "name": "stdout"
        }
      ]
    },
    {
      "cell_type": "code",
      "metadata": {
        "id": "bsgystspoYDN",
        "colab_type": "code",
        "colab": {}
      },
      "source": [
        "arr2[0] = 44"
      ],
      "execution_count": 0,
      "outputs": []
    },
    {
      "cell_type": "code",
      "metadata": {
        "id": "X-CDfHgMob6o",
        "colab_type": "code",
        "outputId": "fc5dbbf1-c818-409c-ca92-d5a35d39f02a",
        "colab": {
          "base_uri": "https://localhost:8080/",
          "height": 68
        }
      },
      "source": [
        "print(arr2)\n",
        "print(arr)"
      ],
      "execution_count": 0,
      "outputs": [
        {
          "output_type": "stream",
          "text": [
            "[44.  6.  7.  8.  9.]\n",
            "[[ 0. 33.  2.  3.  4.]\n",
            " [ 5.  6.  7.  8.  9.]]\n"
          ],
          "name": "stdout"
        }
      ]
    },
    {
      "cell_type": "code",
      "metadata": {
        "id": "mQ6q2EqZoitJ",
        "colab_type": "code",
        "outputId": "7e5db1d9-16db-4f70-e958-bef5a1d1fde8",
        "colab": {
          "base_uri": "https://localhost:8080/",
          "height": 51
        }
      },
      "source": [
        "arr [arr >5] = 0\n",
        "print(arr)"
      ],
      "execution_count": 0,
      "outputs": [
        {
          "output_type": "stream",
          "text": [
            "[[0. 0. 2. 3. 4.]\n",
            " [5. 0. 0. 0. 0.]]\n"
          ],
          "name": "stdout"
        }
      ]
    },
    {
      "cell_type": "code",
      "metadata": {
        "id": "aUqOTBPooubd",
        "colab_type": "code",
        "colab": {}
      },
      "source": [
        "names = np.array(['Bob', 'Joe', 'Will', 'Bob'])"
      ],
      "execution_count": 0,
      "outputs": []
    },
    {
      "cell_type": "code",
      "metadata": {
        "id": "4i9cuh-3pB2F",
        "colab_type": "code",
        "outputId": "550c270d-4694-44db-c78d-8bb7ded10202",
        "colab": {
          "base_uri": "https://localhost:8080/",
          "height": 34
        }
      },
      "source": [
        "names == 'Bob'"
      ],
      "execution_count": 0,
      "outputs": [
        {
          "output_type": "execute_result",
          "data": {
            "text/plain": [
              "array([ True, False, False,  True])"
            ]
          },
          "metadata": {
            "tags": []
          },
          "execution_count": 79
        }
      ]
    },
    {
      "cell_type": "code",
      "metadata": {
        "id": "iR27MDEiqDSe",
        "colab_type": "code",
        "outputId": "f18a32c0-ee7c-4e3a-9eab-72f933987791",
        "colab": {
          "base_uri": "https://localhost:8080/",
          "height": 34
        }
      },
      "source": [
        "names[names != 'Bob']"
      ],
      "execution_count": 0,
      "outputs": [
        {
          "output_type": "execute_result",
          "data": {
            "text/plain": [
              "array(['Joe', 'Will'], dtype='<U4')"
            ]
          },
          "metadata": {
            "tags": []
          },
          "execution_count": 80
        }
      ]
    },
    {
      "cell_type": "code",
      "metadata": {
        "id": "_D4Y-Nu-qKJ0",
        "colab_type": "code",
        "outputId": "9d8eefc0-4ded-4fff-9b69-2ff2dddf42d0",
        "colab": {
          "base_uri": "https://localhost:8080/",
          "height": 34
        }
      },
      "source": [
        "(names == 'Bob') | (names == 'Will')"
      ],
      "execution_count": 0,
      "outputs": [
        {
          "output_type": "execute_result",
          "data": {
            "text/plain": [
              "array([ True, False,  True,  True])"
            ]
          },
          "metadata": {
            "tags": []
          },
          "execution_count": 81
        }
      ]
    },
    {
      "cell_type": "code",
      "metadata": {
        "id": "GHrMSaCrqQtv",
        "colab_type": "code",
        "colab": {}
      },
      "source": [
        "names[names != 'Bob'] = 'Joe'"
      ],
      "execution_count": 0,
      "outputs": []
    },
    {
      "cell_type": "code",
      "metadata": {
        "id": "GiWc5ch7qeVb",
        "colab_type": "code",
        "outputId": "ced233ec-2fe9-4dda-b740-c22e13cb1171",
        "colab": {
          "base_uri": "https://localhost:8080/",
          "height": 34
        }
      },
      "source": [
        "np.unique(names)"
      ],
      "execution_count": 0,
      "outputs": [
        {
          "output_type": "execute_result",
          "data": {
            "text/plain": [
              "array(['Bob', 'Joe'], dtype='<U4')"
            ]
          },
          "metadata": {
            "tags": []
          },
          "execution_count": 83
        }
      ]
    },
    {
      "cell_type": "code",
      "metadata": {
        "id": "nC2PtDtzqgDq",
        "colab_type": "code",
        "colab": {}
      },
      "source": [
        "nums = np.arange(5)"
      ],
      "execution_count": 0,
      "outputs": []
    },
    {
      "cell_type": "code",
      "metadata": {
        "id": "bZ_BrKbUue4J",
        "colab_type": "code",
        "outputId": "7a6a3ea7-2b77-4cf5-b2b6-fdd9e0dc5edf",
        "colab": {
          "base_uri": "https://localhost:8080/",
          "height": 34
        }
      },
      "source": [
        "nums * 10"
      ],
      "execution_count": 0,
      "outputs": [
        {
          "output_type": "execute_result",
          "data": {
            "text/plain": [
              "array([ 0, 10, 20, 30, 40])"
            ]
          },
          "metadata": {
            "tags": []
          },
          "execution_count": 89
        }
      ]
    },
    {
      "cell_type": "code",
      "metadata": {
        "id": "rws1056fvDZJ",
        "colab_type": "code",
        "outputId": "977e3a35-bdc9-4e3b-c1f1-90dbaf609694",
        "colab": {
          "base_uri": "https://localhost:8080/",
          "height": 34
        }
      },
      "source": [
        "num = np.sqrt(nums)\n",
        "np.ceil(nums)"
      ],
      "execution_count": 0,
      "outputs": [
        {
          "output_type": "execute_result",
          "data": {
            "text/plain": [
              "array([0., 1., 2., 3., 4.])"
            ]
          },
          "metadata": {
            "tags": []
          },
          "execution_count": 90
        }
      ]
    },
    {
      "cell_type": "code",
      "metadata": {
        "id": "8HHQIx0MutWN",
        "colab_type": "code",
        "outputId": "650fa93b-bfc6-46b7-b5e1-06ae8d6ba6d2",
        "colab": {
          "base_uri": "https://localhost:8080/",
          "height": 34
        }
      },
      "source": [
        "np.isnan(nums)"
      ],
      "execution_count": 0,
      "outputs": [
        {
          "output_type": "execute_result",
          "data": {
            "text/plain": [
              "array([False, False, False, False, False])"
            ]
          },
          "metadata": {
            "tags": []
          },
          "execution_count": 87
        }
      ]
    },
    {
      "cell_type": "code",
      "metadata": {
        "id": "4aNvgfmnuyPf",
        "colab_type": "code",
        "outputId": "3e8ad908-aa37-46ba-808c-7b446df14b01",
        "colab": {
          "base_uri": "https://localhost:8080/",
          "height": 34
        }
      },
      "source": [
        "nums + np.arange(5)"
      ],
      "execution_count": 0,
      "outputs": [
        {
          "output_type": "execute_result",
          "data": {
            "text/plain": [
              "array([0, 2, 4, 6, 8])"
            ]
          },
          "metadata": {
            "tags": []
          },
          "execution_count": 88
        }
      ]
    },
    {
      "cell_type": "code",
      "metadata": {
        "id": "J2bOFHlPu7rn",
        "colab_type": "code",
        "outputId": "2daa9463-c224-4f7a-cd6f-d6c8b97b2884",
        "colab": {
          "base_uri": "https://localhost:8080/",
          "height": 34
        }
      },
      "source": [
        "np.maximum(nums, np.array([1, -2, 3, -4, 5]))"
      ],
      "execution_count": 0,
      "outputs": [
        {
          "output_type": "execute_result",
          "data": {
            "text/plain": [
              "array([1, 1, 3, 3, 5])"
            ]
          },
          "metadata": {
            "tags": []
          },
          "execution_count": 92
        }
      ]
    },
    {
      "cell_type": "code",
      "metadata": {
        "id": "1alFhS7-xZ3i",
        "colab_type": "code",
        "colab": {}
      },
      "source": [
        "vec1 = np.random.rand(10)\n",
        "vec2 = np.random.rand(10)\n",
        "dist = np.sqrt(np.sum((vec1 - vec2) **2))"
      ],
      "execution_count": 0,
      "outputs": []
    },
    {
      "cell_type": "code",
      "metadata": {
        "id": "9uQqsE_-yIvK",
        "colab_type": "code",
        "colab": {}
      },
      "source": [
        "rnd = np.random.randn(4, 2)"
      ],
      "execution_count": 0,
      "outputs": []
    },
    {
      "cell_type": "code",
      "metadata": {
        "id": "nFoalHk6yxeU",
        "colab_type": "code",
        "outputId": "94659af2-ae7b-4dbd-ae5a-4eb00acfc4cb",
        "colab": {
          "base_uri": "https://localhost:8080/",
          "height": 34
        }
      },
      "source": [
        "rnd.mean()"
      ],
      "execution_count": 0,
      "outputs": [
        {
          "output_type": "execute_result",
          "data": {
            "text/plain": [
              "0.6787866358786105"
            ]
          },
          "metadata": {
            "tags": []
          },
          "execution_count": 99
        }
      ]
    },
    {
      "cell_type": "code",
      "metadata": {
        "id": "dMykZ_yvy2zO",
        "colab_type": "code",
        "outputId": "6826ebc8-cd3f-4b41-fe8a-77167bcbf621",
        "colab": {
          "base_uri": "https://localhost:8080/",
          "height": 34
        }
      },
      "source": [
        "rnd.std()"
      ],
      "execution_count": 0,
      "outputs": [
        {
          "output_type": "execute_result",
          "data": {
            "text/plain": [
              "0.6742214363560326"
            ]
          },
          "metadata": {
            "tags": []
          },
          "execution_count": 100
        }
      ]
    },
    {
      "cell_type": "code",
      "metadata": {
        "id": "leDV8XHfzIw8",
        "colab_type": "code",
        "outputId": "aca70c49-03eb-45ea-ddd3-492abfb8ae92",
        "colab": {
          "base_uri": "https://localhost:8080/",
          "height": 34
        }
      },
      "source": [
        "rnd.argmin() #i didn't understand this line can you help me"
      ],
      "execution_count": 0,
      "outputs": [
        {
          "output_type": "execute_result",
          "data": {
            "text/plain": [
              "0"
            ]
          },
          "metadata": {
            "tags": []
          },
          "execution_count": 101
        }
      ]
    },
    {
      "cell_type": "code",
      "metadata": {
        "id": "AJI1hktwzLRI",
        "colab_type": "code",
        "outputId": "96d8cfa4-2dcd-49ff-a6db-d95418503da3",
        "colab": {
          "base_uri": "https://localhost:8080/",
          "height": 34
        }
      },
      "source": [
        "rnd.sum()"
      ],
      "execution_count": 0,
      "outputs": [
        {
          "output_type": "execute_result",
          "data": {
            "text/plain": [
              "5.430293087028884"
            ]
          },
          "metadata": {
            "tags": []
          },
          "execution_count": 102
        }
      ]
    },
    {
      "cell_type": "code",
      "metadata": {
        "id": "3ay21BITz3NR",
        "colab_type": "code",
        "outputId": "5fc066ba-b58b-46b0-f2f0-9f432d69b130",
        "colab": {
          "base_uri": "https://localhost:8080/",
          "height": 34
        }
      },
      "source": [
        "rnd.sum(axis=0)"
      ],
      "execution_count": 0,
      "outputs": [
        {
          "output_type": "execute_result",
          "data": {
            "text/plain": [
              "array([3.48223064, 1.94806245])"
            ]
          },
          "metadata": {
            "tags": []
          },
          "execution_count": 104
        }
      ]
    },
    {
      "cell_type": "code",
      "metadata": {
        "id": "TM9v9Wtmz9t3",
        "colab_type": "code",
        "outputId": "489aa3d8-9958-4c4e-a4f6-67459f15b6e8",
        "colab": {
          "base_uri": "https://localhost:8080/",
          "height": 34
        }
      },
      "source": [
        "rnd.sum(axis=1)"
      ],
      "execution_count": 0,
      "outputs": [
        {
          "output_type": "execute_result",
          "data": {
            "text/plain": [
              "array([0.77507584, 1.83472514, 0.29545231, 2.52503979])"
            ]
          },
          "metadata": {
            "tags": []
          },
          "execution_count": 105
        }
      ]
    },
    {
      "cell_type": "code",
      "metadata": {
        "id": "9HniDFFB0E_d",
        "colab_type": "code",
        "outputId": "e0270c47-b979-4a60-9c75-a97425ac4870",
        "colab": {
          "base_uri": "https://localhost:8080/",
          "height": 34
        }
      },
      "source": [
        "(rnd > 0).sum()"
      ],
      "execution_count": 0,
      "outputs": [
        {
          "output_type": "execute_result",
          "data": {
            "text/plain": [
              "7"
            ]
          },
          "metadata": {
            "tags": []
          },
          "execution_count": 106
        }
      ]
    },
    {
      "cell_type": "code",
      "metadata": {
        "id": "3s2u9HAV0NUH",
        "colab_type": "code",
        "outputId": "97833a96-ad2b-4c32-ce3c-62c9bd4fd32d",
        "colab": {
          "base_uri": "https://localhost:8080/",
          "height": 34
        }
      },
      "source": [
        "(rnd > 0).any()"
      ],
      "execution_count": 0,
      "outputs": [
        {
          "output_type": "execute_result",
          "data": {
            "text/plain": [
              "True"
            ]
          },
          "metadata": {
            "tags": []
          },
          "execution_count": 107
        }
      ]
    },
    {
      "cell_type": "code",
      "metadata": {
        "id": "aTFc0kVH0WDn",
        "colab_type": "code",
        "outputId": "22138b2b-a1e3-4e64-ab7e-af07e259d370",
        "colab": {
          "base_uri": "https://localhost:8080/",
          "height": 34
        }
      },
      "source": [
        "(rnd > 0).all()"
      ],
      "execution_count": 0,
      "outputs": [
        {
          "output_type": "execute_result",
          "data": {
            "text/plain": [
              "False"
            ]
          },
          "metadata": {
            "tags": []
          },
          "execution_count": 108
        }
      ]
    },
    {
      "cell_type": "code",
      "metadata": {
        "id": "EkmkN37R0f7m",
        "colab_type": "code",
        "colab": {}
      },
      "source": [
        "np.random.seed(12234)"
      ],
      "execution_count": 0,
      "outputs": []
    },
    {
      "cell_type": "code",
      "metadata": {
        "id": "KD-kylrN09Yg",
        "colab_type": "code",
        "outputId": "265ea1ef-2809-4eb0-b449-559244035302",
        "colab": {
          "base_uri": "https://localhost:8080/",
          "height": 51
        }
      },
      "source": [
        "np.random.rand(2, 3)"
      ],
      "execution_count": 0,
      "outputs": [
        {
          "output_type": "execute_result",
          "data": {
            "text/plain": [
              "array([[0.00630595, 0.20303476, 0.76478993],\n",
              "       [0.55513384, 0.74358546, 0.93777808]])"
            ]
          },
          "metadata": {
            "tags": []
          },
          "execution_count": 110
        }
      ]
    },
    {
      "cell_type": "code",
      "metadata": {
        "id": "esMoNgBI1CCG",
        "colab_type": "code",
        "outputId": "adf0c1b3-aefb-4c1c-909f-eec51e393502",
        "colab": {
          "base_uri": "https://localhost:8080/",
          "height": 68
        }
      },
      "source": [
        "np.random.randn(10)"
      ],
      "execution_count": 0,
      "outputs": [
        {
          "output_type": "execute_result",
          "data": {
            "text/plain": [
              "array([-2.79962074e-01,  1.31281104e+00, -9.27155784e-01, -4.01302169e-01,\n",
              "       -2.31085929e+00, -2.08460156e+00,  4.59241643e-01,  1.62191344e+00,\n",
              "        1.94515120e-01, -2.08631547e-03])"
            ]
          },
          "metadata": {
            "tags": []
          },
          "execution_count": 112
        }
      ]
    },
    {
      "cell_type": "code",
      "metadata": {
        "id": "AVZnRD_n1GO0",
        "colab_type": "code",
        "outputId": "df7a4b62-437b-4b2c-804d-1ec0391b63d8",
        "colab": {
          "base_uri": "https://localhost:8080/",
          "height": 34
        }
      },
      "source": [
        "np.random.randint(0, 2, 10)"
      ],
      "execution_count": 0,
      "outputs": [
        {
          "output_type": "execute_result",
          "data": {
            "text/plain": [
              "array([0, 0, 0, 1, 1, 0, 1, 1, 1, 1])"
            ]
          },
          "metadata": {
            "tags": []
          },
          "execution_count": 113
        }
      ]
    },
    {
      "cell_type": "code",
      "metadata": {
        "id": "IQD5gwzn4HgD",
        "colab_type": "code",
        "outputId": "ab7750c5-5fc0-487b-cd1f-fdad998eddbc",
        "colab": {
          "base_uri": "https://localhost:8080/",
          "height": 85
        }
      },
      "source": [
        "a = np.array ([[0, 0, 0], [10, 10, 10], [20, 20, 20], [30, 30, 30]])\n",
        "b = np.array([0, 1, 2])\n",
        "print(a+b)"
      ],
      "execution_count": 0,
      "outputs": [
        {
          "output_type": "stream",
          "text": [
            "[[ 0  1  2]\n",
            " [10 11 12]\n",
            " [20 21 22]\n",
            " [30 31 32]]\n"
          ],
          "name": "stdout"
        }
      ]
    },
    {
      "cell_type": "code",
      "metadata": {
        "id": "haYETnqf5VK1",
        "colab_type": "code",
        "outputId": "9fc05aaa-858d-4d34-d894-1de036bb0e0b",
        "colab": {
          "base_uri": "https://localhost:8080/",
          "height": 34
        }
      },
      "source": [
        "a = 12\n",
        "print(a)"
      ],
      "execution_count": 0,
      "outputs": [
        {
          "output_type": "stream",
          "text": [
            "12\n"
          ],
          "name": "stdout"
        }
      ]
    },
    {
      "cell_type": "code",
      "metadata": {
        "id": "kH_PF0H5akLO",
        "colab_type": "code",
        "colab": {}
      },
      "source": [
        "x = np.random.randn(4,2)\n"
      ],
      "execution_count": 0,
      "outputs": []
    },
    {
      "cell_type": "code",
      "metadata": {
        "id": "G-3TpG4CfJlM",
        "colab_type": "code",
        "colab": {
          "base_uri": "https://localhost:8080/",
          "height": 51
        },
        "outputId": "206d700e-a15a-4860-9616-fb20f76de530"
      },
      "source": [
        "X = np.random.randn(4,2)\n",
        "X.argmin(axis = 0),X.argmin(axis = 1)\n",
        "\n",
        "\n",
        "# We can also get value like this\n",
        "print(X[:,0].min(),X[:,1].min())\n",
        "print(X[:,:].min())"
      ],
      "execution_count": 120,
      "outputs": [
        {
          "output_type": "stream",
          "text": [
            "-0.05014604593747791 -0.44590868174241155\n",
            "-0.44590868174241155\n"
          ],
          "name": "stdout"
        }
      ]
    },
    {
      "cell_type": "code",
      "metadata": {
        "id": "3AyILNoofJ43",
        "colab_type": "code",
        "colab": {}
      },
      "source": [
        "def standardize(X):\n",
        "    norm_X =( X-np.mean(X))/np.std(X)\n",
        "    return norm_X"
      ],
      "execution_count": 0,
      "outputs": []
    },
    {
      "cell_type": "code",
      "metadata": {
        "id": "QLEaHsrGfKKj",
        "colab_type": "code",
        "colab": {}
      },
      "source": [
        "Z = standardize(X)"
      ],
      "execution_count": 0,
      "outputs": []
    },
    {
      "cell_type": "code",
      "metadata": {
        "id": "Ft-m3CGJwiYo",
        "colab_type": "code",
        "colab": {
          "base_uri": "https://localhost:8080/",
          "height": 34
        },
        "outputId": "ac61603b-efe0-4cf3-e166-012389b23949"
      },
      "source": [
        "Z.mean()\n",
        "Z.std()"
      ],
      "execution_count": 123,
      "outputs": [
        {
          "output_type": "execute_result",
          "data": {
            "text/plain": [
              "1.0"
            ]
          },
          "metadata": {
            "tags": []
          },
          "execution_count": 123
        }
      ]
    },
    {
      "cell_type": "code",
      "metadata": {
        "id": "RW7WOIMswnuK",
        "colab_type": "code",
        "colab": {}
      },
      "source": [
        ""
      ],
      "execution_count": 0,
      "outputs": []
    }
  ]
}