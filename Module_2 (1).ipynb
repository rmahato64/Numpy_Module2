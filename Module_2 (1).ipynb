{
  "nbformat": 4,
  "nbformat_minor": 0,
  "metadata": {
    "colab": {
      "name": "Module_2.ipynb",
      "version": "0.3.2",
      "provenance": [],
      "collapsed_sections": []
    },
    "kernelspec": {
      "name": "python3",
      "display_name": "Python 3"
    }
  },
  "cells": [
    {
      "cell_type": "code",
      "metadata": {
        "id": "vOF5RtmMWdrN",
        "colab_type": "code",
        "colab": {}
      },
      "source": [
        "import numpy as np  #importing numpy"
      ],
      "execution_count": 0,
      "outputs": []
    },
    {
      "cell_type": "code",
      "metadata": {
        "id": "_hW2toVhayCy",
        "colab_type": "code",
        "colab": {}
      },
      "source": [
        "list1 = [1, 2, 3, 4, 5]   #creating list"
      ],
      "execution_count": 0,
      "outputs": []
    },
    {
      "cell_type": "code",
      "metadata": {
        "id": "FcBcJ-eGdr0Z",
        "colab_type": "code",
        "colab": {}
      },
      "source": [
        "arr1 = np.array(list1) #converting list to array"
      ],
      "execution_count": 0,
      "outputs": []
    },
    {
      "cell_type": "code",
      "metadata": {
        "id": "TGnrFL0ye6h5",
        "colab_type": "code",
        "colab": {}
      },
      "source": [
        "list2 = [range(1,5), range(5,10)]   # making list inside a list"
      ],
      "execution_count": 0,
      "outputs": []
    },
    {
      "cell_type": "code",
      "metadata": {
        "id": "nd4bkaeMe9HE",
        "colab_type": "code",
        "colab": {}
      },
      "source": [
        "arr2 = np.array(list2)   #converting the list into array"
      ],
      "execution_count": 0,
      "outputs": []
    },
    {
      "cell_type": "code",
      "metadata": {
        "id": "AmBp_VBse_xW",
        "colab_type": "code",
        "outputId": "6bcffd2d-a4cb-425f-e713-0133d5d16898",
        "colab": {
          "base_uri": "https://localhost:8080/",
          "height": 34
        }
      },
      "source": [
        "arr2.tolist() # converting back to list"
      ],
      "execution_count": 0,
      "outputs": [
        {
          "output_type": "execute_result",
          "data": {
            "text/plain": [
              "[range(1, 5), range(5, 10)]"
            ]
          },
          "metadata": {
            "tags": []
          },
          "execution_count": 34
        }
      ]
    },
    {
      "cell_type": "code",
      "metadata": {
        "id": "sVStsVf6bzbJ",
        "colab_type": "code",
        "outputId": "3e1259f3-11d9-4942-c200-00346408d760",
        "colab": {
          "base_uri": "https://localhost:8080/",
          "height": 34
        }
      },
      "source": [
        "np.zeros(10)  #create a numpy array of length 10\n"
      ],
      "execution_count": 0,
      "outputs": [
        {
          "output_type": "execute_result",
          "data": {
            "text/plain": [
              "array([0., 0., 0., 0., 0., 0., 0., 0., 0., 0.])"
            ]
          },
          "metadata": {
            "tags": []
          },
          "execution_count": 35
        }
      ]
    },
    {
      "cell_type": "code",
      "metadata": {
        "id": "U8syrAm3dtwx",
        "colab_type": "code",
        "outputId": "8a0414ab-14d8-45be-c2f2-a22ededf25d5",
        "colab": {
          "base_uri": "https://localhost:8080/",
          "height": 68
        }
      },
      "source": [
        "np.zeros((3, 6))  #number of rows and colums: 3 rows and 6 column"
      ],
      "execution_count": 0,
      "outputs": [
        {
          "output_type": "execute_result",
          "data": {
            "text/plain": [
              "array([[0., 0., 0., 0., 0., 0.],\n",
              "       [0., 0., 0., 0., 0., 0.],\n",
              "       [0., 0., 0., 0., 0., 0.]])"
            ]
          },
          "metadata": {
            "tags": []
          },
          "execution_count": 18
        }
      ]
    },
    {
      "cell_type": "code",
      "metadata": {
        "id": "0O9kbal1dy9N",
        "colab_type": "code",
        "outputId": "85d20c49-e42f-42d4-de11-04385dad9c76",
        "colab": {
          "base_uri": "https://localhost:8080/",
          "height": 34
        }
      },
      "source": [
        "np.ones(10)    # multiplying 10 times"
      ],
      "execution_count": 0,
      "outputs": [
        {
          "output_type": "execute_result",
          "data": {
            "text/plain": [
              "array([1., 1., 1., 1., 1., 1., 1., 1., 1., 1.])"
            ]
          },
          "metadata": {
            "tags": []
          },
          "execution_count": 19
        }
      ]
    },
    {
      "cell_type": "code",
      "metadata": {
        "id": "kBaswrQcd1wf",
        "colab_type": "code",
        "outputId": "362ee059-e59e-4879-fece-73b8ac1264a5",
        "colab": {
          "base_uri": "https://localhost:8080/",
          "height": 34
        }
      },
      "source": [
        "np.linspace(0, 1, 5)   # uniform distribution between 0 and 1, 5 times"
      ],
      "execution_count": 0,
      "outputs": [
        {
          "output_type": "execute_result",
          "data": {
            "text/plain": [
              "array([0.  , 0.25, 0.5 , 0.75, 1.  ])"
            ]
          },
          "metadata": {
            "tags": []
          },
          "execution_count": 20
        }
      ]
    },
    {
      "cell_type": "code",
      "metadata": {
        "id": "lFM2Pp5Td8OL",
        "colab_type": "code",
        "outputId": "aec01db5-22d9-44a7-f28a-edb43d13c8ab",
        "colab": {
          "base_uri": "https://localhost:8080/",
          "height": 34
        }
      },
      "source": [
        "np.logspace(0, 3, 4)  # creates 10^0 to 10^3, creating 4 points"
      ],
      "execution_count": 0,
      "outputs": [
        {
          "output_type": "execute_result",
          "data": {
            "text/plain": [
              "array([   1.,   10.,  100., 1000.])"
            ]
          },
          "metadata": {
            "tags": []
          },
          "execution_count": 21
        }
      ]
    },
    {
      "cell_type": "code",
      "metadata": {
        "id": "Xu5UnXFmcZZu",
        "colab_type": "code",
        "colab": {}
      },
      "source": [
        "int_array = np.arange(5)  # this command provide an array output, ranging from 0 to 4.\n"
      ],
      "execution_count": 0,
      "outputs": []
    },
    {
      "cell_type": "code",
      "metadata": {
        "id": "JtrWXj2Lcvvd",
        "colab_type": "code",
        "outputId": "9e144c5a-9d6a-4c47-81ae-437f2444bb92",
        "colab": {
          "base_uri": "https://localhost:8080/",
          "height": 34
        }
      },
      "source": [
        "arr1.dtype       #checking the type \n"
      ],
      "execution_count": 0,
      "outputs": [
        {
          "output_type": "execute_result",
          "data": {
            "text/plain": [
              "dtype('int64')"
            ]
          },
          "metadata": {
            "tags": []
          },
          "execution_count": 25
        }
      ]
    },
    {
      "cell_type": "code",
      "metadata": {
        "id": "uXotlZP4dE50",
        "colab_type": "code",
        "outputId": "92b925e1-ea57-4613-fb70-f4834fd6bf9d",
        "colab": {
          "base_uri": "https://localhost:8080/",
          "height": 34
        }
      },
      "source": [
        "arr2.dtype"
      ],
      "execution_count": 0,
      "outputs": [
        {
          "output_type": "execute_result",
          "data": {
            "text/plain": [
              "dtype('O')"
            ]
          },
          "metadata": {
            "tags": []
          },
          "execution_count": 27
        }
      ]
    },
    {
      "cell_type": "code",
      "metadata": {
        "id": "4ZLGADpPdVvM",
        "colab_type": "code",
        "outputId": "48b0954c-3eb6-4d84-b4c9-919f36a72b98",
        "colab": {
          "base_uri": "https://localhost:8080/",
          "height": 34
        }
      },
      "source": [
        "arr2.ndim\n",
        "#provides the number of dimensions for the given array."
      ],
      "execution_count": 0,
      "outputs": [
        {
          "output_type": "execute_result",
          "data": {
            "text/plain": [
              "1"
            ]
          },
          "metadata": {
            "tags": []
          },
          "execution_count": 14
        }
      ]
    },
    {
      "cell_type": "code",
      "metadata": {
        "id": "LQ2Zbr2sdX61",
        "colab_type": "code",
        "outputId": "8c9390d1-a196-40ff-8ed2-2c7caf877636",
        "colab": {
          "base_uri": "https://localhost:8080/",
          "height": 34
        }
      },
      "source": [
        "arr2.shape\n",
        "#provides the number of rows and columns (shape of the array)"
      ],
      "execution_count": 0,
      "outputs": [
        {
          "output_type": "execute_result",
          "data": {
            "text/plain": [
              "(2,)"
            ]
          },
          "metadata": {
            "tags": []
          },
          "execution_count": 15
        }
      ]
    },
    {
      "cell_type": "code",
      "metadata": {
        "id": "Cb-_YShmdY4h",
        "colab_type": "code",
        "outputId": "d9c25efc-62fb-4004-92d3-b4deaf692cdd",
        "colab": {
          "base_uri": "https://localhost:8080/",
          "height": 34
        }
      },
      "source": [
        "arr2.dtype\n",
        "#provides the data type."
      ],
      "execution_count": 0,
      "outputs": [
        {
          "output_type": "execute_result",
          "data": {
            "text/plain": [
              "dtype('O')"
            ]
          },
          "metadata": {
            "tags": []
          },
          "execution_count": 28
        }
      ]
    },
    {
      "cell_type": "code",
      "metadata": {
        "id": "qhfzm4EUekrW",
        "colab_type": "code",
        "outputId": "efbc917f-8b2a-4980-eacc-5a35e18d8ee0",
        "colab": {
          "base_uri": "https://localhost:8080/",
          "height": 34
        }
      },
      "source": [
        "arr2.size\n",
        "#provides the total number of elements (entries) in the array."
      ],
      "execution_count": 0,
      "outputs": [
        {
          "output_type": "execute_result",
          "data": {
            "text/plain": [
              "2"
            ]
          },
          "metadata": {
            "tags": []
          },
          "execution_count": 29
        }
      ]
    },
    {
      "cell_type": "code",
      "metadata": {
        "id": "ODieXMjMeu4W",
        "colab_type": "code",
        "outputId": "cab19a2a-1a94-4c59-d16e-ec97f38db7d7",
        "colab": {
          "base_uri": "https://localhost:8080/",
          "height": 34
        }
      },
      "source": [
        "len(arr2)"
      ],
      "execution_count": 0,
      "outputs": [
        {
          "output_type": "execute_result",
          "data": {
            "text/plain": [
              "2"
            ]
          },
          "metadata": {
            "tags": []
          },
          "execution_count": 37
        }
      ]
    },
    {
      "cell_type": "code",
      "metadata": {
        "id": "itDudOgJfIcc",
        "colab_type": "code",
        "outputId": "eb9f476f-0780-4de3-c610-0208e5b042e8",
        "colab": {
          "base_uri": "https://localhost:8080/",
          "height": 34
        }
      },
      "source": [
        "arr2.size"
      ],
      "execution_count": 0,
      "outputs": [
        {
          "output_type": "execute_result",
          "data": {
            "text/plain": [
              "2"
            ]
          },
          "metadata": {
            "tags": []
          },
          "execution_count": 39
        }
      ]
    },
    {
      "cell_type": "code",
      "metadata": {
        "id": "Rg1I9EPofSx5",
        "colab_type": "code",
        "outputId": "98d30e9e-524c-4765-fe47-3f078be444a0",
        "colab": {
          "base_uri": "https://localhost:8080/",
          "height": 34
        }
      },
      "source": [
        "arr = np.arange(10, dtype=float).reshape((2, 5))\n",
        "print(arr.shape)\n",
        "#This creates an array of range from 0 to 9,\n",
        "#with float entries and arranging them in a fashion such that\n",
        "#there are 2 rows and 5 columns"
      ],
      "execution_count": 0,
      "outputs": [
        {
          "output_type": "stream",
          "text": [
            "(2, 5)\n"
          ],
          "name": "stdout"
        }
      ]
    },
    {
      "cell_type": "code",
      "metadata": {
        "id": "yzgShxLIg_2c",
        "colab_type": "code",
        "outputId": "039fc8fc-69f8-4cd5-c138-96700b98b34d",
        "colab": {
          "base_uri": "https://localhost:8080/",
          "height": 102
        }
      },
      "source": [
        "print(arr.reshape(5, 2))\n",
        "#This reshapes the array into the fashion such that\n",
        "#it has 5 rows and 2 columns"
      ],
      "execution_count": 0,
      "outputs": [
        {
          "output_type": "stream",
          "text": [
            "[[0. 1.]\n",
            " [2. 3.]\n",
            " [4. 5.]\n",
            " [6. 7.]\n",
            " [8. 9.]]\n"
          ],
          "name": "stdout"
        }
      ]
    },
    {
      "cell_type": "code",
      "metadata": {
        "id": "M8mf7C1VhRKL",
        "colab_type": "code",
        "colab": {}
      },
      "source": [
        "a = np.array([0, 1])"
      ],
      "execution_count": 0,
      "outputs": []
    },
    {
      "cell_type": "code",
      "metadata": {
        "id": "xSc1-mYlhoY_",
        "colab_type": "code",
        "outputId": "5df29093-0555-468c-84ff-0df93b94807c",
        "colab": {
          "base_uri": "https://localhost:8080/",
          "height": 51
        }
      },
      "source": [
        "a_col = a[:, np.newaxis]\n",
        "print(a_col)"
      ],
      "execution_count": 0,
      "outputs": [
        {
          "output_type": "stream",
          "text": [
            "[[0]\n",
            " [1]]\n"
          ],
          "name": "stdout"
        }
      ]
    },
    {
      "cell_type": "code",
      "metadata": {
        "id": "C3yK5FZfh0Ze",
        "colab_type": "code",
        "outputId": "12f6eeb2-4cac-412e-be23-e45d87c59c75",
        "colab": {
          "base_uri": "https://localhost:8080/",
          "height": 34
        }
      },
      "source": [
        "print(a_col.T)"
      ],
      "execution_count": 0,
      "outputs": [
        {
          "output_type": "stream",
          "text": [
            "[[0 1]]\n"
          ],
          "name": "stdout"
        }
      ]
    },
    {
      "cell_type": "code",
      "metadata": {
        "id": "MskswTg2h7ib",
        "colab_type": "code",
        "outputId": "3703c76c-e5b0-4b33-f194-6c30cb62fe65",
        "colab": {
          "base_uri": "https://localhost:8080/",
          "height": 68
        }
      },
      "source": [
        "arr_flt = arr.flatten() #makes it a column vector(only 1 row)\n",
        "arr_flt[0] = 33   #replaces the index 0 value as 33.\n",
        "print(arr_flt)\n",
        "print(arr)"
      ],
      "execution_count": 0,
      "outputs": [
        {
          "output_type": "stream",
          "text": [
            "[33.  1.  2.  3.  4.  5.  6.  7.  8.  9.]\n",
            "[[0. 1. 2. 3. 4.]\n",
            " [5. 6. 7. 8. 9.]]\n"
          ],
          "name": "stdout"
        }
      ]
    },
    {
      "cell_type": "code",
      "metadata": {
        "id": "S8oR3-tzisUl",
        "colab_type": "code",
        "outputId": "803f66bb-121a-4ad5-dce6-61ffc3dce736",
        "colab": {
          "base_uri": "https://localhost:8080/",
          "height": 68
        }
      },
      "source": [
        "arr_flt = arr.ravel()\n",
        "arr_flt[0] = 33\n",
        "print(arr_flt)\n",
        "print(arr)"
      ],
      "execution_count": 0,
      "outputs": [
        {
          "output_type": "stream",
          "text": [
            "[33.  1.  2.  3.  4.  5.  6.  7.  8.  9.]\n",
            "[[33.  1.  2.  3.  4.]\n",
            " [ 5.  6.  7.  8.  9.]]\n"
          ],
          "name": "stdout"
        }
      ]
    },
    {
      "cell_type": "code",
      "metadata": {
        "id": "nmFZq_30j1J0",
        "colab_type": "code",
        "outputId": "c3d1e8fe-796a-44bc-8954-d8a1a96a983e",
        "colab": {
          "base_uri": "https://localhost:8080/",
          "height": 51
        }
      },
      "source": [
        "a = np.array([0, 1])\n",
        "b = np.array([2, 3])\n",
        "\n",
        "ab = np.stack((a, b)).T\n",
        "print(ab)\n",
        "\n",
        "#Stacks two arrays together,\n",
        "t#hen prints out their transposed stacking 'ab'"
      ],
      "execution_count": 0,
      "outputs": [
        {
          "output_type": "stream",
          "text": [
            "[[0 2]\n",
            " [1 3]]\n"
          ],
          "name": "stdout"
        }
      ]
    },
    {
      "cell_type": "code",
      "metadata": {
        "id": "BtjHDD_Rk6E0",
        "colab_type": "code",
        "outputId": "f5c2a52f-485b-40ee-fe3a-9d48522f8bce",
        "colab": {
          "base_uri": "https://localhost:8080/",
          "height": 34
        }
      },
      "source": [
        "arr = np.arange(10, dtype=float).reshape((2, 5))\n",
        "\n",
        "arr[0]"
      ],
      "execution_count": 0,
      "outputs": [
        {
          "output_type": "execute_result",
          "data": {
            "text/plain": [
              "array([0., 1., 2., 3., 4.])"
            ]
          },
          "metadata": {
            "tags": []
          },
          "execution_count": 55
        }
      ]
    },
    {
      "cell_type": "code",
      "metadata": {
        "id": "oQeZx6MYl0Jx",
        "colab_type": "code",
        "outputId": "b0d28154-db07-45b8-8e84-65b1902e35fa",
        "colab": {
          "base_uri": "https://localhost:8080/",
          "height": 34
        }
      },
      "source": [
        "arr[0,3]\n",
        "\n",
        "# there is a mistake in the tutorial.\n",
        "# 0th row, 3rd colums, it returns 3.0."
      ],
      "execution_count": 0,
      "outputs": [
        {
          "output_type": "execute_result",
          "data": {
            "text/plain": [
              "3.0"
            ]
          },
          "metadata": {
            "tags": []
          },
          "execution_count": 56
        }
      ]
    },
    {
      "cell_type": "code",
      "metadata": {
        "id": "R10-NviDl8au",
        "colab_type": "code",
        "outputId": "5ed53517-3f56-470b-9bd2-6373ffcbace2",
        "colab": {
          "base_uri": "https://localhost:8080/",
          "height": 34
        }
      },
      "source": [
        "arr[0][3]"
      ],
      "execution_count": 0,
      "outputs": [
        {
          "output_type": "execute_result",
          "data": {
            "text/plain": [
              "3.0"
            ]
          },
          "metadata": {
            "tags": []
          },
          "execution_count": 57
        }
      ]
    },
    {
      "cell_type": "code",
      "metadata": {
        "id": "wkS9KTCjl-_t",
        "colab_type": "code",
        "outputId": "524538ae-d68b-4286-8020-654d600e6baf",
        "colab": {
          "base_uri": "https://localhost:8080/",
          "height": 34
        }
      },
      "source": [
        "arr[0, :]\n",
        "#returns 0th row, all columns."
      ],
      "execution_count": 0,
      "outputs": [
        {
          "output_type": "execute_result",
          "data": {
            "text/plain": [
              "array([0., 1., 2., 3., 4.])"
            ]
          },
          "metadata": {
            "tags": []
          },
          "execution_count": 58
        }
      ]
    },
    {
      "cell_type": "code",
      "metadata": {
        "id": "XkCs1pPSmm45",
        "colab_type": "code",
        "outputId": "79e12e8d-ddb5-4b24-fe59-2f9189e76f9c",
        "colab": {
          "base_uri": "https://localhost:8080/",
          "height": 34
        }
      },
      "source": [
        "arr[:, 0]\n",
        "#returns all rows, 0th column."
      ],
      "execution_count": 0,
      "outputs": [
        {
          "output_type": "execute_result",
          "data": {
            "text/plain": [
              "array([0., 5.])"
            ]
          },
          "metadata": {
            "tags": []
          },
          "execution_count": 16
        }
      ]
    },
    {
      "cell_type": "code",
      "metadata": {
        "id": "C1XaLep6msAh",
        "colab_type": "code",
        "outputId": "359ff7fc-30ec-4b98-cb3e-69145f6065a8",
        "colab": {
          "base_uri": "https://localhost:8080/",
          "height": 51
        }
      },
      "source": [
        "arr[:, :2]\n",
        "#return all rows, but columns before index 2"
      ],
      "execution_count": 0,
      "outputs": [
        {
          "output_type": "execute_result",
          "data": {
            "text/plain": [
              "array([[0., 1.],\n",
              "       [5., 6.]])"
            ]
          },
          "metadata": {
            "tags": []
          },
          "execution_count": 60
        }
      ]
    },
    {
      "cell_type": "code",
      "metadata": {
        "id": "4Zo87gOLmy7M",
        "colab_type": "code",
        "outputId": "37ca4eaa-3d48-439c-f5d2-3dcf32f9bb6b",
        "colab": {
          "base_uri": "https://localhost:8080/",
          "height": 51
        }
      },
      "source": [
        "arr[:, 2:]\n",
        "#return all rows, but columns after index 2 (included)"
      ],
      "execution_count": 0,
      "outputs": [
        {
          "output_type": "execute_result",
          "data": {
            "text/plain": [
              "array([[2., 3., 4.],\n",
              "       [7., 8., 9.]])"
            ]
          },
          "metadata": {
            "tags": []
          },
          "execution_count": 61
        }
      ]
    },
    {
      "cell_type": "code",
      "metadata": {
        "id": "vIstGO0jm7yv",
        "colab_type": "code",
        "colab": {}
      },
      "source": [
        "arr2 = arr[:, 1:4]\n",
        "#return all rows, but columns between index  1(included)\n",
        "#and index 4 (excluded)"
      ],
      "execution_count": 0,
      "outputs": []
    },
    {
      "cell_type": "code",
      "metadata": {
        "id": "1uVhxmtinMPg",
        "colab_type": "code",
        "outputId": "d16d9a00-a0e8-4787-fc6d-2768b0e4e403",
        "colab": {
          "base_uri": "https://localhost:8080/",
          "height": 51
        }
      },
      "source": [
        "print(arr2)"
      ],
      "execution_count": 0,
      "outputs": [
        {
          "output_type": "stream",
          "text": [
            "[[1. 2. 3.]\n",
            " [6. 7. 8.]]\n"
          ],
          "name": "stdout"
        }
      ]
    },
    {
      "cell_type": "code",
      "metadata": {
        "id": "SuSmCJghnRGf",
        "colab_type": "code",
        "outputId": "1185cf2b-e7cd-45d6-f153-ccf9e3b21e11",
        "colab": {
          "base_uri": "https://localhost:8080/",
          "height": 85
        }
      },
      "source": [
        "arr2[0, 0] = 33\n",
        "print(arr2)\n",
        "print(arr)\n",
        "#slices the array, and changes the mentioned element, and  modifies the actual array as well."
      ],
      "execution_count": 0,
      "outputs": [
        {
          "output_type": "stream",
          "text": [
            "[[33.  2.  3.]\n",
            " [ 6.  7.  8.]]\n",
            "[[ 0. 33.  2.  3.  4.]\n",
            " [ 5.  6.  7.  8.  9.]]\n"
          ],
          "name": "stdout"
        }
      ]
    },
    {
      "cell_type": "code",
      "metadata": {
        "id": "tDMfTX22nf4A",
        "colab_type": "code",
        "outputId": "cb67f7af-2462-437a-ce8c-09393945f998",
        "colab": {
          "base_uri": "https://localhost:8080/",
          "height": 34
        }
      },
      "source": [
        "print(arr[0, ::-1])"
      ],
      "execution_count": 0,
      "outputs": [
        {
          "output_type": "stream",
          "text": [
            "[ 4.  3.  2. 33.  0.]\n"
          ],
          "name": "stdout"
        }
      ]
    },
    {
      "cell_type": "code",
      "metadata": {
        "id": "Gc3-rFvGnsJW",
        "colab_type": "code",
        "outputId": "8d58efc2-99a6-4194-9a2d-4267030d0c2d",
        "colab": {
          "base_uri": "https://localhost:8080/",
          "height": 51
        }
      },
      "source": [
        "arr2 = arr[:, [1, 2, 3]]\n",
        "print(arr2)\n",
        "# fancy indexing.  Returns all the rows and columns 1-3 (as mentioned inside the brackets)"
      ],
      "execution_count": 0,
      "outputs": [
        {
          "output_type": "stream",
          "text": [
            "[[33.  2.  3.]\n",
            " [ 6.  7.  8.]]\n"
          ],
          "name": "stdout"
        }
      ]
    },
    {
      "cell_type": "code",
      "metadata": {
        "id": "YqjgueP0n-Wu",
        "colab_type": "code",
        "outputId": "98812f49-cc71-4f59-cee2-44552de7864d",
        "colab": {
          "base_uri": "https://localhost:8080/",
          "height": 51
        }
      },
      "source": [
        "arr2[0, 0] = 44\n",
        "print(arr2)\n",
        "# modifies the first entry (0,0) to 44 in arr2"
      ],
      "execution_count": 0,
      "outputs": [
        {
          "output_type": "stream",
          "text": [
            "[[44.  2.  3.]\n",
            " [ 6.  7.  8.]]\n"
          ],
          "name": "stdout"
        }
      ]
    },
    {
      "cell_type": "code",
      "metadata": {
        "id": "00LheTYLoF0v",
        "colab_type": "code",
        "outputId": "e6b53fc8-49fe-409e-ba6e-63aadae17cc5",
        "colab": {
          "base_uri": "https://localhost:8080/",
          "height": 51
        }
      },
      "source": [
        "print(arr)"
      ],
      "execution_count": 0,
      "outputs": [
        {
          "output_type": "stream",
          "text": [
            "[[ 0. 33.  2.  3.  4.]\n",
            " [ 5.  6.  7.  8.  9.]]\n"
          ],
          "name": "stdout"
        }
      ]
    },
    {
      "cell_type": "code",
      "metadata": {
        "id": "SUOajMDmoIZf",
        "colab_type": "code",
        "outputId": "4f2e1ee2-44a2-463b-9e82-f7f3e2513e7b",
        "colab": {
          "base_uri": "https://localhost:8080/",
          "height": 34
        }
      },
      "source": [
        "arr2 = arr[arr >5]\n",
        "print(arr2)\n",
        "# outputs only those entries which have value greater than 5."
      ],
      "execution_count": 0,
      "outputs": [
        {
          "output_type": "stream",
          "text": [
            "[33.  6.  7.  8.  9.]\n"
          ],
          "name": "stdout"
        }
      ]
    },
    {
      "cell_type": "code",
      "metadata": {
        "id": "bsgystspoYDN",
        "colab_type": "code",
        "colab": {}
      },
      "source": [
        "arr2[0] = 44\n",
        "# modifies the first entry (33) to 44."
      ],
      "execution_count": 0,
      "outputs": []
    },
    {
      "cell_type": "code",
      "metadata": {
        "id": "X-CDfHgMob6o",
        "colab_type": "code",
        "outputId": "fc5dbbf1-c818-409c-ca92-d5a35d39f02a",
        "colab": {
          "base_uri": "https://localhost:8080/",
          "height": 68
        }
      },
      "source": [
        "print(arr2)\n",
        "print(arr)"
      ],
      "execution_count": 0,
      "outputs": [
        {
          "output_type": "stream",
          "text": [
            "[44.  6.  7.  8.  9.]\n",
            "[[ 0. 33.  2.  3.  4.]\n",
            " [ 5.  6.  7.  8.  9.]]\n"
          ],
          "name": "stdout"
        }
      ]
    },
    {
      "cell_type": "code",
      "metadata": {
        "id": "mQ6q2EqZoitJ",
        "colab_type": "code",
        "outputId": "7e5db1d9-16db-4f70-e958-bef5a1d1fde8",
        "colab": {
          "base_uri": "https://localhost:8080/",
          "height": 51
        }
      },
      "source": [
        "arr [arr >5] = 0\n",
        "print(arr)\n",
        "# modifies all the entry values greater than 5 to 0."
      ],
      "execution_count": 0,
      "outputs": [
        {
          "output_type": "stream",
          "text": [
            "[[0. 0. 2. 3. 4.]\n",
            " [5. 0. 0. 0. 0.]]\n"
          ],
          "name": "stdout"
        }
      ]
    },
    {
      "cell_type": "code",
      "metadata": {
        "id": "aUqOTBPooubd",
        "colab_type": "code",
        "colab": {
          "base_uri": "https://localhost:8080/",
          "height": 34
        },
        "outputId": "67811869-55a3-47d2-978d-ea5e6bb0b0dd"
      },
      "source": [
        "names = np.array(['Bob', 'Joe', 'Will', 'Bob'])\n",
        "print(names)\n",
        "# creates an array, consisting of string entries."
      ],
      "execution_count": 8,
      "outputs": [
        {
          "output_type": "stream",
          "text": [
            "['Bob' 'Joe' 'Will' 'Bob']\n"
          ],
          "name": "stdout"
        }
      ]
    },
    {
      "cell_type": "code",
      "metadata": {
        "id": "4i9cuh-3pB2F",
        "colab_type": "code",
        "outputId": "09b7d0ef-e691-4948-a59b-b527540d0a4e",
        "colab": {
          "base_uri": "https://localhost:8080/",
          "height": 34
        }
      },
      "source": [
        "names == 'Bob'\n",
        "# The output is array([ True, False, False,  True]) \n",
        "# which is a boolean array based on the entry 'Bob'"
      ],
      "execution_count": 4,
      "outputs": [
        {
          "output_type": "execute_result",
          "data": {
            "text/plain": [
              "array([ True, False, False,  True])"
            ]
          },
          "metadata": {
            "tags": []
          },
          "execution_count": 4
        }
      ]
    },
    {
      "cell_type": "code",
      "metadata": {
        "id": "iR27MDEiqDSe",
        "colab_type": "code",
        "outputId": "c5577315-f94e-4c21-97e0-ad92f0c8686b",
        "colab": {
          "base_uri": "https://localhost:8080/",
          "height": 34
        }
      },
      "source": [
        "names[names != 'Bob']\n",
        "# returns all the entries which are not 'Bob'."
      ],
      "execution_count": 9,
      "outputs": [
        {
          "output_type": "execute_result",
          "data": {
            "text/plain": [
              "array(['Joe', 'Will'], dtype='<U4')"
            ]
          },
          "metadata": {
            "tags": []
          },
          "execution_count": 9
        }
      ]
    },
    {
      "cell_type": "code",
      "metadata": {
        "id": "_D4Y-Nu-qKJ0",
        "colab_type": "code",
        "outputId": "9d8eefc0-4ded-4fff-9b69-2ff2dddf42d0",
        "colab": {
          "base_uri": "https://localhost:8080/",
          "height": 34
        }
      },
      "source": [
        "(names == 'Bob') | (names == 'Will')\n",
        "#This boolean OR operation on the entries."
      ],
      "execution_count": 0,
      "outputs": [
        {
          "output_type": "execute_result",
          "data": {
            "text/plain": [
              "array([ True, False,  True,  True])"
            ]
          },
          "metadata": {
            "tags": []
          },
          "execution_count": 81
        }
      ]
    },
    {
      "cell_type": "code",
      "metadata": {
        "id": "GHrMSaCrqQtv",
        "colab_type": "code",
        "colab": {
          "base_uri": "https://localhost:8080/",
          "height": 34
        },
        "outputId": "a454ec05-97f4-4005-e266-812738b593ad"
      },
      "source": [
        "names[names != 'Bob'] = 'Joe'\n",
        "print(names)"
      ],
      "execution_count": 11,
      "outputs": [
        {
          "output_type": "stream",
          "text": [
            "['Bob' 'Joe' 'Joe' 'Bob']\n"
          ],
          "name": "stdout"
        }
      ]
    },
    {
      "cell_type": "code",
      "metadata": {
        "id": "GiWc5ch7qeVb",
        "colab_type": "code",
        "outputId": "0b5f667d-fc65-43af-dd28-f6a68585d4fc",
        "colab": {
          "base_uri": "https://localhost:8080/",
          "height": 34
        }
      },
      "source": [
        "np.unique(names)\n",
        "#returns the unqiue names, distinct ones"
      ],
      "execution_count": 12,
      "outputs": [
        {
          "output_type": "execute_result",
          "data": {
            "text/plain": [
              "array(['Bob', 'Joe'], dtype='<U4')"
            ]
          },
          "metadata": {
            "tags": []
          },
          "execution_count": 12
        }
      ]
    },
    {
      "cell_type": "code",
      "metadata": {
        "id": "nC2PtDtzqgDq",
        "colab_type": "code",
        "colab": {
          "base_uri": "https://localhost:8080/",
          "height": 34
        },
        "outputId": "82e79688-ec3d-46ae-b7d3-50d414214ddb"
      },
      "source": [
        "nums = np.arange(5)\n",
        "print(nums)"
      ],
      "execution_count": 14,
      "outputs": [
        {
          "output_type": "stream",
          "text": [
            "[0 1 2 3 4]\n"
          ],
          "name": "stdout"
        }
      ]
    },
    {
      "cell_type": "code",
      "metadata": {
        "id": "bZ_BrKbUue4J",
        "colab_type": "code",
        "outputId": "7a6a3ea7-2b77-4cf5-b2b6-fdd9e0dc5edf",
        "colab": {
          "base_uri": "https://localhost:8080/",
          "height": 34
        }
      },
      "source": [
        "nums * 10  #multiply elements by 10 times"
      ],
      "execution_count": 0,
      "outputs": [
        {
          "output_type": "execute_result",
          "data": {
            "text/plain": [
              "array([ 0, 10, 20, 30, 40])"
            ]
          },
          "metadata": {
            "tags": []
          },
          "execution_count": 89
        }
      ]
    },
    {
      "cell_type": "code",
      "metadata": {
        "id": "rws1056fvDZJ",
        "colab_type": "code",
        "outputId": "5fcb4ac7-41c8-4685-9ac6-d39e7dd0fd1b",
        "colab": {
          "base_uri": "https://localhost:8080/",
          "height": 34
        }
      },
      "source": [
        "num = np.sqrt(nums)   #square root of each elements\n",
        "np.ceil(nums)          #round off to the closest integer"
      ],
      "execution_count": 15,
      "outputs": [
        {
          "output_type": "execute_result",
          "data": {
            "text/plain": [
              "array([0., 1., 2., 3., 4.])"
            ]
          },
          "metadata": {
            "tags": []
          },
          "execution_count": 15
        }
      ]
    },
    {
      "cell_type": "code",
      "metadata": {
        "id": "8HHQIx0MutWN",
        "colab_type": "code",
        "outputId": "650fa93b-bfc6-46b7-b5e1-06ae8d6ba6d2",
        "colab": {
          "base_uri": "https://localhost:8080/",
          "height": 34
        }
      },
      "source": [
        "np.isnan(nums)   # check for NaN"
      ],
      "execution_count": 0,
      "outputs": [
        {
          "output_type": "execute_result",
          "data": {
            "text/plain": [
              "array([False, False, False, False, False])"
            ]
          },
          "metadata": {
            "tags": []
          },
          "execution_count": 87
        }
      ]
    },
    {
      "cell_type": "code",
      "metadata": {
        "id": "4aNvgfmnuyPf",
        "colab_type": "code",
        "outputId": "3e8ad908-aa37-46ba-808c-7b446df14b01",
        "colab": {
          "base_uri": "https://localhost:8080/",
          "height": 34
        }
      },
      "source": [
        "nums + np.arange(5)\n",
        "#adds the corresonding entries (elements) of the given arrays."
      ],
      "execution_count": 0,
      "outputs": [
        {
          "output_type": "execute_result",
          "data": {
            "text/plain": [
              "array([0, 2, 4, 6, 8])"
            ]
          },
          "metadata": {
            "tags": []
          },
          "execution_count": 88
        }
      ]
    },
    {
      "cell_type": "code",
      "metadata": {
        "id": "J2bOFHlPu7rn",
        "colab_type": "code",
        "outputId": "c4b422b1-41e5-4e4d-d2a3-7bb0ee42b4cc",
        "colab": {
          "base_uri": "https://localhost:8080/",
          "height": 34
        }
      },
      "source": [
        "np.maximum(nums, np.array([1, -2, 3, -4, 5]))\n",
        "#compares the given arrays and returns the highest values among the entries of the arrays being compared."
      ],
      "execution_count": 16,
      "outputs": [
        {
          "output_type": "execute_result",
          "data": {
            "text/plain": [
              "array([1, 1, 3, 3, 5])"
            ]
          },
          "metadata": {
            "tags": []
          },
          "execution_count": 16
        }
      ]
    },
    {
      "cell_type": "code",
      "metadata": {
        "id": "1alFhS7-xZ3i",
        "colab_type": "code",
        "colab": {}
      },
      "source": [
        "vec1 = np.random.rand(10)\n",
        "vec2 = np.random.rand(10)\n",
        "#random number generator\n",
        "\n",
        "\n",
        "dist = np.sqrt(np.sum((vec1 - vec2) **2))\n"
      ],
      "execution_count": 0,
      "outputs": []
    },
    {
      "cell_type": "code",
      "metadata": {
        "id": "9uQqsE_-yIvK",
        "colab_type": "code",
        "colab": {
          "base_uri": "https://localhost:8080/",
          "height": 85
        },
        "outputId": "f1d7379e-9911-4dd9-9db0-435b87bc1afa"
      },
      "source": [
        "rnd = np.random.randn(4, 2)\n",
        "print(rnd)\n",
        "# creates an array of random numbers, consisting of 4 rows and  cloumns"
      ],
      "execution_count": 24,
      "outputs": [
        {
          "output_type": "stream",
          "text": [
            "[[-0.67686456 -0.39968599]\n",
            " [-0.21567928  0.01818035]\n",
            " [-0.11869358 -1.79857705]\n",
            " [ 1.25703178 -0.29273474]]\n"
          ],
          "name": "stdout"
        }
      ]
    },
    {
      "cell_type": "code",
      "metadata": {
        "id": "nFoalHk6yxeU",
        "colab_type": "code",
        "outputId": "94659af2-ae7b-4dbd-ae5a-4eb00acfc4cb",
        "colab": {
          "base_uri": "https://localhost:8080/",
          "height": 34
        }
      },
      "source": [
        "rnd.mean()      #calculating mean"
      ],
      "execution_count": 0,
      "outputs": [
        {
          "output_type": "execute_result",
          "data": {
            "text/plain": [
              "0.6787866358786105"
            ]
          },
          "metadata": {
            "tags": []
          },
          "execution_count": 99
        }
      ]
    },
    {
      "cell_type": "code",
      "metadata": {
        "id": "dMykZ_yvy2zO",
        "colab_type": "code",
        "outputId": "6826ebc8-cd3f-4b41-fe8a-77167bcbf621",
        "colab": {
          "base_uri": "https://localhost:8080/",
          "height": 34
        }
      },
      "source": [
        "rnd.std()  # calculating standard deviation"
      ],
      "execution_count": 0,
      "outputs": [
        {
          "output_type": "execute_result",
          "data": {
            "text/plain": [
              "0.6742214363560326"
            ]
          },
          "metadata": {
            "tags": []
          },
          "execution_count": 100
        }
      ]
    },
    {
      "cell_type": "code",
      "metadata": {
        "id": "leDV8XHfzIw8",
        "colab_type": "code",
        "outputId": "a9a94b29-b0c9-422f-ac5d-fb98bbc6d560",
        "colab": {
          "base_uri": "https://localhost:8080/",
          "height": 34
        }
      },
      "source": [
        "rnd.argmin() #provides the index of the minimum value present in the array"
      ],
      "execution_count": 19,
      "outputs": [
        {
          "output_type": "execute_result",
          "data": {
            "text/plain": [
              "0"
            ]
          },
          "metadata": {
            "tags": []
          },
          "execution_count": 19
        }
      ]
    },
    {
      "cell_type": "code",
      "metadata": {
        "id": "AJI1hktwzLRI",
        "colab_type": "code",
        "outputId": "96d8cfa4-2dcd-49ff-a6db-d95418503da3",
        "colab": {
          "base_uri": "https://localhost:8080/",
          "height": 34
        }
      },
      "source": [
        "rnd.sum()    #calculating sum of all the array entries"
      ],
      "execution_count": 0,
      "outputs": [
        {
          "output_type": "execute_result",
          "data": {
            "text/plain": [
              "5.430293087028884"
            ]
          },
          "metadata": {
            "tags": []
          },
          "execution_count": 102
        }
      ]
    },
    {
      "cell_type": "code",
      "metadata": {
        "id": "3ay21BITz3NR",
        "colab_type": "code",
        "outputId": "5fc066ba-b58b-46b0-f2f0-9f432d69b130",
        "colab": {
          "base_uri": "https://localhost:8080/",
          "height": 34
        }
      },
      "source": [
        "rnd.sum(axis=0)     #sum of columns"
      ],
      "execution_count": 0,
      "outputs": [
        {
          "output_type": "execute_result",
          "data": {
            "text/plain": [
              "array([3.48223064, 1.94806245])"
            ]
          },
          "metadata": {
            "tags": []
          },
          "execution_count": 104
        }
      ]
    },
    {
      "cell_type": "code",
      "metadata": {
        "id": "TM9v9Wtmz9t3",
        "colab_type": "code",
        "outputId": "489aa3d8-9958-4c4e-a4f6-67459f15b6e8",
        "colab": {
          "base_uri": "https://localhost:8080/",
          "height": 34
        }
      },
      "source": [
        "rnd.sum(axis=1)      #calculating sum of rows"
      ],
      "execution_count": 0,
      "outputs": [
        {
          "output_type": "execute_result",
          "data": {
            "text/plain": [
              "array([0.77507584, 1.83472514, 0.29545231, 2.52503979])"
            ]
          },
          "metadata": {
            "tags": []
          },
          "execution_count": 105
        }
      ]
    },
    {
      "cell_type": "code",
      "metadata": {
        "id": "9HniDFFB0E_d",
        "colab_type": "code",
        "outputId": "a9752096-27e0-4a64-b573-1afd14fa29fa",
        "colab": {
          "base_uri": "https://localhost:8080/",
          "height": 34
        }
      },
      "source": [
        "(rnd > 0).sum()   #counts sum of all the positive values, and runds it off to the nearest integer"
      ],
      "execution_count": 22,
      "outputs": [
        {
          "output_type": "execute_result",
          "data": {
            "text/plain": [
              "5"
            ]
          },
          "metadata": {
            "tags": []
          },
          "execution_count": 22
        }
      ]
    },
    {
      "cell_type": "code",
      "metadata": {
        "id": "3s2u9HAV0NUH",
        "colab_type": "code",
        "outputId": "97833a96-ad2b-4c32-ce3c-62c9bd4fd32d",
        "colab": {
          "base_uri": "https://localhost:8080/",
          "height": 34
        }
      },
      "source": [
        "(rnd > 0).any()      #checks if any value is greater than 0"
      ],
      "execution_count": 0,
      "outputs": [
        {
          "output_type": "execute_result",
          "data": {
            "text/plain": [
              "True"
            ]
          },
          "metadata": {
            "tags": []
          },
          "execution_count": 107
        }
      ]
    },
    {
      "cell_type": "code",
      "metadata": {
        "id": "aTFc0kVH0WDn",
        "colab_type": "code",
        "outputId": "5a6bc72a-7028-4995-91c4-87776cf7ac12",
        "colab": {
          "base_uri": "https://localhost:8080/",
          "height": 34
        }
      },
      "source": [
        "(rnd > 0).all()      #checks if all values are greater than 0"
      ],
      "execution_count": 23,
      "outputs": [
        {
          "output_type": "execute_result",
          "data": {
            "text/plain": [
              "False"
            ]
          },
          "metadata": {
            "tags": []
          },
          "execution_count": 23
        }
      ]
    },
    {
      "cell_type": "code",
      "metadata": {
        "id": "EkmkN37R0f7m",
        "colab_type": "code",
        "colab": {}
      },
      "source": [
        "np.random.seed(12234)"
      ],
      "execution_count": 0,
      "outputs": []
    },
    {
      "cell_type": "code",
      "metadata": {
        "id": "KD-kylrN09Yg",
        "colab_type": "code",
        "outputId": "265ea1ef-2809-4eb0-b449-559244035302",
        "colab": {
          "base_uri": "https://localhost:8080/",
          "height": 51
        }
      },
      "source": [
        "np.random.rand(2, 3)\n",
        "# random number array, with 2 rows and 3 columns"
      ],
      "execution_count": 0,
      "outputs": [
        {
          "output_type": "execute_result",
          "data": {
            "text/plain": [
              "array([[0.00630595, 0.20303476, 0.76478993],\n",
              "       [0.55513384, 0.74358546, 0.93777808]])"
            ]
          },
          "metadata": {
            "tags": []
          },
          "execution_count": 110
        }
      ]
    },
    {
      "cell_type": "code",
      "metadata": {
        "id": "esMoNgBI1CCG",
        "colab_type": "code",
        "outputId": "adf0c1b3-aefb-4c1c-909f-eec51e393502",
        "colab": {
          "base_uri": "https://localhost:8080/",
          "height": 68
        }
      },
      "source": [
        "np.random.randn(10)\n",
        "# random number array with 10 entries"
      ],
      "execution_count": 0,
      "outputs": [
        {
          "output_type": "execute_result",
          "data": {
            "text/plain": [
              "array([-2.79962074e-01,  1.31281104e+00, -9.27155784e-01, -4.01302169e-01,\n",
              "       -2.31085929e+00, -2.08460156e+00,  4.59241643e-01,  1.62191344e+00,\n",
              "        1.94515120e-01, -2.08631547e-03])"
            ]
          },
          "metadata": {
            "tags": []
          },
          "execution_count": 112
        }
      ]
    },
    {
      "cell_type": "code",
      "metadata": {
        "id": "AVZnRD_n1GO0",
        "colab_type": "code",
        "outputId": "df7a4b62-437b-4b2c-804d-1ec0391b63d8",
        "colab": {
          "base_uri": "https://localhost:8080/",
          "height": 34
        }
      },
      "source": [
        "np.random.randint(0, 2, 10)\n",
        "# 10 numbers, either 0 or 1, distributed randomly."
      ],
      "execution_count": 0,
      "outputs": [
        {
          "output_type": "execute_result",
          "data": {
            "text/plain": [
              "array([0, 0, 0, 1, 1, 0, 1, 1, 1, 1])"
            ]
          },
          "metadata": {
            "tags": []
          },
          "execution_count": 113
        }
      ]
    },
    {
      "cell_type": "code",
      "metadata": {
        "id": "IQD5gwzn4HgD",
        "colab_type": "code",
        "outputId": "ab7750c5-5fc0-487b-cd1f-fdad998eddbc",
        "colab": {
          "base_uri": "https://localhost:8080/",
          "height": 85
        }
      },
      "source": [
        "a = np.array ([[0, 0, 0], [10, 10, 10], [20, 20, 20], [30, 30, 30]])\n",
        "b = np.array([0, 1, 2])\n",
        "print(a+b)\n",
        "# adds the rwo array to each of the rows in the first input array"
      ],
      "execution_count": 0,
      "outputs": [
        {
          "output_type": "stream",
          "text": [
            "[[ 0  1  2]\n",
            " [10 11 12]\n",
            " [20 21 22]\n",
            " [30 31 32]]\n"
          ],
          "name": "stdout"
        }
      ]
    },
    {
      "cell_type": "code",
      "metadata": {
        "id": "haYETnqf5VK1",
        "colab_type": "code",
        "outputId": "9fc05aaa-858d-4d34-d894-1de036bb0e0b",
        "colab": {
          "base_uri": "https://localhost:8080/",
          "height": 34
        }
      },
      "source": [
        "a = 12\n",
        "print(a)"
      ],
      "execution_count": 0,
      "outputs": [
        {
          "output_type": "stream",
          "text": [
            "12\n"
          ],
          "name": "stdout"
        }
      ]
    },
    {
      "cell_type": "code",
      "metadata": {
        "id": "kH_PF0H5akLO",
        "colab_type": "code",
        "colab": {}
      },
      "source": [
        "x = np.random.randn(4,2)\n"
      ],
      "execution_count": 0,
      "outputs": []
    },
    {
      "cell_type": "code",
      "metadata": {
        "id": "G-3TpG4CfJlM",
        "colab_type": "code",
        "outputId": "3e03dbbf-b618-4f08-c540-3d60efde3ef4",
        "colab": {
          "base_uri": "https://localhost:8080/",
          "height": 34
        }
      },
      "source": [
        "X = np.random.randn(4,2)\n",
        "X.argmin(axis = 0),X.argmin(axis = 1)\n",
        "\n"
      ],
      "execution_count": 0,
      "outputs": [
        {
          "output_type": "execute_result",
          "data": {
            "text/plain": [
              "(array([0, 2]), array([0, 1, 1, 1]))"
            ]
          },
          "metadata": {
            "tags": []
          },
          "execution_count": 130
        }
      ]
    },
    {
      "cell_type": "code",
      "metadata": {
        "id": "3AyILNoofJ43",
        "colab_type": "code",
        "colab": {}
      },
      "source": [
        "def standardize(X):\n",
        "    normalize_X =( X-np.mean(X))/np.std(X)\n",
        "    return normalize_X"
      ],
      "execution_count": 0,
      "outputs": []
    },
    {
      "cell_type": "code",
      "metadata": {
        "id": "QLEaHsrGfKKj",
        "colab_type": "code",
        "colab": {}
      },
      "source": [
        "z = standardize(X)"
      ],
      "execution_count": 0,
      "outputs": []
    },
    {
      "cell_type": "code",
      "metadata": {
        "id": "Ft-m3CGJwiYo",
        "colab_type": "code",
        "outputId": "60da9b4b-7d0e-427a-f48d-1bfca14a9110",
        "colab": {
          "base_uri": "https://localhost:8080/",
          "height": 34
        }
      },
      "source": [
        "\n",
        "z.mean()\n",
        "z.std()"
      ],
      "execution_count": 0,
      "outputs": [
        {
          "output_type": "execute_result",
          "data": {
            "text/plain": [
              "1.0"
            ]
          },
          "metadata": {
            "tags": []
          },
          "execution_count": 128
        }
      ]
    },
    {
      "cell_type": "code",
      "metadata": {
        "id": "RW7WOIMswnuK",
        "colab_type": "code",
        "colab": {}
      },
      "source": [
        ""
      ],
      "execution_count": 0,
      "outputs": []
    }
  ]
}